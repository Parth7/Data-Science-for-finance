{
 "cells": [
  {
   "cell_type": "code",
   "execution_count": 13,
   "id": "engaging-raleigh",
   "metadata": {},
   "outputs": [],
   "source": [
    "import numpy as np\n",
    "\n",
    "a = np.random.rand(8,13,13)\n",
    "b = np.random.rand(8,13,13)\n",
    "c = np.matmul(a,b)\n",
    "d = np.dot(a, b)"
   ]
  },
  {
   "cell_type": "code",
   "execution_count": 14,
   "id": "aware-sapphire",
   "metadata": {},
   "outputs": [
    {
     "name": "stdout",
     "output_type": "stream",
     "text": [
      "(8, 13, 13)\n"
     ]
    }
   ],
   "source": [
    "print(np.shape(c))"
   ]
  },
  {
   "cell_type": "code",
   "execution_count": 15,
   "id": "pretty-australian",
   "metadata": {},
   "outputs": [
    {
     "name": "stdout",
     "output_type": "stream",
     "text": [
      "(8, 13, 8, 13)\n"
     ]
    }
   ],
   "source": [
    "print(np.shape(d))"
   ]
  }
 ],
 "metadata": {
  "kernelspec": {
   "display_name": "Python 3",
   "language": "python",
   "name": "python3"
  },
  "language_info": {
   "codemirror_mode": {
    "name": "ipython",
    "version": 3
   },
   "file_extension": ".py",
   "mimetype": "text/x-python",
   "name": "python",
   "nbconvert_exporter": "python",
   "pygments_lexer": "ipython3",
   "version": "3.7.7"
  }
 },
 "nbformat": 4,
 "nbformat_minor": 5
}
